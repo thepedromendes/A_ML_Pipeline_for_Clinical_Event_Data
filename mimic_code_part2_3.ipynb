{
 "cells": [
  {
   "cell_type": "markdown",
   "id": "a87898a6",
   "metadata": {},
   "source": [
    "3 - Train and validate a model to predict length of stay. For this task you will need to choose a window size to train your data (too many days will delay decisions about patients when the system is deployed, too few days will probably produce a very shortsighted predictor. Choose with care)."
   ]
  },
  {
   "cell_type": "code",
   "execution_count": 1,
   "id": "ff42940b",
   "metadata": {},
   "outputs": [
    {
     "name": "stderr",
     "output_type": "stream",
     "text": [
      "C:\\Users\\Ines\\AppData\\Local\\Temp\\ipykernel_868\\3242706356.py:30: DtypeWarning: Columns (8,13,14) have mixed types. Specify dtype option on import or set low_memory=False.\n",
      "  chartevents = pd.read_csv(f'{base_path}CHARTEVENTS.csv')\n"
     ]
    }
   ],
   "source": [
    "import os\n",
    "import pandas as pd\n",
    "import numpy as np\n",
    "import matplotlib.pyplot as plt\n",
    "import seaborn as sns\n",
    "from sklearn.metrics import r2_score, mean_squared_error\n",
    "from sklearn.model_selection import train_test_split\n",
    "from sklearn.preprocessing import MinMaxScaler\n",
    "from sklearn.preprocessing import StandardScaler\n",
    "from sklearn.ensemble import RandomForestClassifier\n",
    "from sklearn.ensemble import RandomForestRegressor\n",
    "from sklearn.metrics import classification_report, confusion_matrix, roc_auc_score\n",
    "from sklearn.impute import SimpleImputer\n",
    "from sklearn.neighbors import KNeighborsRegressor\n",
    "from sklearn.linear_model import LinearRegression\n",
    "from sklearn.svm import SVR\n",
    "from sklearn.tree import DecisionTreeRegressor\n",
    "from sklearn.ensemble import GradientBoostingRegressor\n",
    "from sklearn.linear_model import SGDRegressor\n",
    "from sklearn.model_selection import GridSearchCV\n",
    "from sklearn import preprocessing\n",
    "from sklearn.metrics import mean_absolute_error\n",
    "\n",
    "\n",
    "# Load  MIMIC-III tables\n",
    "base_path = 'C:/Users/Ines/Desktop/Nova_entrega/Parte_topicos/'\n",
    "\n",
    "icustays_cleaned = pd.read_excel(f'{base_path}icustays_cleaned.xlsx')\n",
    "diagnoses_icd_cleaned = pd.read_excel(f'{base_path}diagnoses_icd_cleaned.xlsx')\n",
    "chartevents = pd.read_csv(f'{base_path}CHARTEVENTS.csv')"
   ]
  },
  {
   "cell_type": "code",
   "execution_count": 2,
   "id": "e144cf72",
   "metadata": {},
   "outputs": [
    {
     "name": "stdout",
     "output_type": "stream",
     "text": [
      "<class 'pandas.core.frame.DataFrame'>\n",
      "RangeIndex: 39195630 entries, 0 to 39195629\n",
      "Data columns (total 15 columns):\n",
      " #   Column        Non-Null Count     Dtype  \n",
      "---  ------        --------------     -----  \n",
      " 0   ROW_ID        39195630 non-null  int64  \n",
      " 1   SUBJECT_ID    39195630 non-null  int64  \n",
      " 2   HADM_ID       39195630 non-null  int64  \n",
      " 3   ICUSTAY_ID    39161239 non-null  float64\n",
      " 4   ITEMID        39195630 non-null  int64  \n",
      " 5   CHARTTIME     39195630 non-null  object \n",
      " 6   STORETIME     32882957 non-null  object \n",
      " 7   CGID          32882957 non-null  float64\n",
      " 8   VALUE         38919020 non-null  object \n",
      " 9   VALUENUM      36320500 non-null  float64\n",
      " 10  VALUEUOM      34093161 non-null  object \n",
      " 11  WARNING       34303752 non-null  float64\n",
      " 12  ERROR         34303752 non-null  float64\n",
      " 13  RESULTSTATUS  289761 non-null    object \n",
      " 14  STOPPED       4864645 non-null   object \n",
      "dtypes: float64(5), int64(4), object(6)\n",
      "memory usage: 4.4+ GB\n"
     ]
    },
    {
     "data": {
      "text/html": [
       "<div>\n",
       "<style scoped>\n",
       "    .dataframe tbody tr th:only-of-type {\n",
       "        vertical-align: middle;\n",
       "    }\n",
       "\n",
       "    .dataframe tbody tr th {\n",
       "        vertical-align: top;\n",
       "    }\n",
       "\n",
       "    .dataframe thead th {\n",
       "        text-align: right;\n",
       "    }\n",
       "</style>\n",
       "<table border=\"1\" class=\"dataframe\">\n",
       "  <thead>\n",
       "    <tr style=\"text-align: right;\">\n",
       "      <th></th>\n",
       "      <th>ROW_ID</th>\n",
       "      <th>SUBJECT_ID</th>\n",
       "      <th>HADM_ID</th>\n",
       "      <th>ICUSTAY_ID</th>\n",
       "      <th>ITEMID</th>\n",
       "      <th>CHARTTIME</th>\n",
       "      <th>STORETIME</th>\n",
       "      <th>CGID</th>\n",
       "      <th>VALUE</th>\n",
       "      <th>VALUENUM</th>\n",
       "      <th>VALUEUOM</th>\n",
       "      <th>WARNING</th>\n",
       "      <th>ERROR</th>\n",
       "      <th>RESULTSTATUS</th>\n",
       "      <th>STOPPED</th>\n",
       "    </tr>\n",
       "  </thead>\n",
       "  <tbody>\n",
       "    <tr>\n",
       "      <th>0</th>\n",
       "      <td>788</td>\n",
       "      <td>36</td>\n",
       "      <td>165660</td>\n",
       "      <td>241249.0</td>\n",
       "      <td>223834</td>\n",
       "      <td>2134-05-12 12:00:00</td>\n",
       "      <td>2134-05-12 13:56:00</td>\n",
       "      <td>17525.0</td>\n",
       "      <td>15.0</td>\n",
       "      <td>15.00</td>\n",
       "      <td>L/min</td>\n",
       "      <td>0.0</td>\n",
       "      <td>0.0</td>\n",
       "      <td>NaN</td>\n",
       "      <td>NaN</td>\n",
       "    </tr>\n",
       "    <tr>\n",
       "      <th>1</th>\n",
       "      <td>789</td>\n",
       "      <td>36</td>\n",
       "      <td>165660</td>\n",
       "      <td>241249.0</td>\n",
       "      <td>223835</td>\n",
       "      <td>2134-05-12 12:00:00</td>\n",
       "      <td>2134-05-12 13:56:00</td>\n",
       "      <td>17525.0</td>\n",
       "      <td>100.0</td>\n",
       "      <td>100.00</td>\n",
       "      <td>NaN</td>\n",
       "      <td>0.0</td>\n",
       "      <td>0.0</td>\n",
       "      <td>NaN</td>\n",
       "      <td>NaN</td>\n",
       "    </tr>\n",
       "    <tr>\n",
       "      <th>2</th>\n",
       "      <td>790</td>\n",
       "      <td>36</td>\n",
       "      <td>165660</td>\n",
       "      <td>241249.0</td>\n",
       "      <td>224328</td>\n",
       "      <td>2134-05-12 12:00:00</td>\n",
       "      <td>2134-05-12 12:18:00</td>\n",
       "      <td>20823.0</td>\n",
       "      <td>0.37</td>\n",
       "      <td>0.37</td>\n",
       "      <td>NaN</td>\n",
       "      <td>0.0</td>\n",
       "      <td>0.0</td>\n",
       "      <td>NaN</td>\n",
       "      <td>NaN</td>\n",
       "    </tr>\n",
       "    <tr>\n",
       "      <th>3</th>\n",
       "      <td>791</td>\n",
       "      <td>36</td>\n",
       "      <td>165660</td>\n",
       "      <td>241249.0</td>\n",
       "      <td>224329</td>\n",
       "      <td>2134-05-12 12:00:00</td>\n",
       "      <td>2134-05-12 12:19:00</td>\n",
       "      <td>20823.0</td>\n",
       "      <td>6.0</td>\n",
       "      <td>6.00</td>\n",
       "      <td>min</td>\n",
       "      <td>0.0</td>\n",
       "      <td>0.0</td>\n",
       "      <td>NaN</td>\n",
       "      <td>NaN</td>\n",
       "    </tr>\n",
       "    <tr>\n",
       "      <th>4</th>\n",
       "      <td>792</td>\n",
       "      <td>36</td>\n",
       "      <td>165660</td>\n",
       "      <td>241249.0</td>\n",
       "      <td>224330</td>\n",
       "      <td>2134-05-12 12:00:00</td>\n",
       "      <td>2134-05-12 12:19:00</td>\n",
       "      <td>20823.0</td>\n",
       "      <td>2.5</td>\n",
       "      <td>2.50</td>\n",
       "      <td>NaN</td>\n",
       "      <td>0.0</td>\n",
       "      <td>0.0</td>\n",
       "      <td>NaN</td>\n",
       "      <td>NaN</td>\n",
       "    </tr>\n",
       "  </tbody>\n",
       "</table>\n",
       "</div>"
      ],
      "text/plain": [
       "   ROW_ID  SUBJECT_ID  HADM_ID  ICUSTAY_ID  ITEMID            CHARTTIME  \\\n",
       "0     788          36   165660    241249.0  223834  2134-05-12 12:00:00   \n",
       "1     789          36   165660    241249.0  223835  2134-05-12 12:00:00   \n",
       "2     790          36   165660    241249.0  224328  2134-05-12 12:00:00   \n",
       "3     791          36   165660    241249.0  224329  2134-05-12 12:00:00   \n",
       "4     792          36   165660    241249.0  224330  2134-05-12 12:00:00   \n",
       "\n",
       "             STORETIME     CGID  VALUE  VALUENUM VALUEUOM  WARNING  ERROR  \\\n",
       "0  2134-05-12 13:56:00  17525.0   15.0     15.00    L/min      0.0    0.0   \n",
       "1  2134-05-12 13:56:00  17525.0  100.0    100.00      NaN      0.0    0.0   \n",
       "2  2134-05-12 12:18:00  20823.0   0.37      0.37      NaN      0.0    0.0   \n",
       "3  2134-05-12 12:19:00  20823.0    6.0      6.00      min      0.0    0.0   \n",
       "4  2134-05-12 12:19:00  20823.0    2.5      2.50      NaN      0.0    0.0   \n",
       "\n",
       "  RESULTSTATUS STOPPED  \n",
       "0          NaN     NaN  \n",
       "1          NaN     NaN  \n",
       "2          NaN     NaN  \n",
       "3          NaN     NaN  \n",
       "4          NaN     NaN  "
      ]
     },
     "execution_count": 2,
     "metadata": {},
     "output_type": "execute_result"
    }
   ],
   "source": [
    "chartevents.info(verbose=True, show_counts=True)\n",
    "chartevents.head()"
   ]
  },
  {
   "cell_type": "code",
   "execution_count": 3,
   "id": "f6722166",
   "metadata": {},
   "outputs": [],
   "source": [
    "chartevents_cleaned = chartevents[chartevents['ICUSTAY_ID'].notna()]"
   ]
  },
  {
   "cell_type": "markdown",
   "id": "1c97fcb8",
   "metadata": {},
   "source": [
    "This code filters out rows from the DataFrame where the ICUSTAY_ID column has null (missing) values, ensuring that only records with valid ICU stay identifiers are kept for analysis."
   ]
  },
  {
   "cell_type": "code",
   "execution_count": 4,
   "id": "eb13b1be",
   "metadata": {},
   "outputs": [
    {
     "name": "stderr",
     "output_type": "stream",
     "text": [
      "C:\\Users\\Ines\\AppData\\Local\\Temp\\ipykernel_868\\2818262811.py:1: SettingWithCopyWarning: \n",
      "A value is trying to be set on a copy of a slice from a DataFrame.\n",
      "Try using .loc[row_indexer,col_indexer] = value instead\n",
      "\n",
      "See the caveats in the documentation: https://pandas.pydata.org/pandas-docs/stable/user_guide/indexing.html#returning-a-view-versus-a-copy\n",
      "  chartevents_cleaned['ICUSTAY_ID'] = chartevents_cleaned['ICUSTAY_ID'].astype(int)\n"
     ]
    },
    {
     "name": "stdout",
     "output_type": "stream",
     "text": [
      "ICUSTAY_IDs únicos antes do filtro: 27241\n",
      "ICUSTAY_IDs únicos após filtro: 27241\n"
     ]
    }
   ],
   "source": [
    "chartevents_cleaned['ICUSTAY_ID'] = chartevents_cleaned['ICUSTAY_ID'].astype(int)\n",
    "icustays_cleaned['ICUSTAY_ID'] = icustays_cleaned['ICUSTAY_ID'].astype(int)\n",
    "\n",
    "chartevents_cleaned= chartevents_cleaned[chartevents_cleaned['ICUSTAY_ID'].isin(icustays_cleaned['ICUSTAY_ID'])]\n",
    "\n",
    "print(f\"ICUSTAY_IDs únicos antes do filtro: {chartevents['ICUSTAY_ID'].nunique()}\")\n",
    "print(f\"ICUSTAY_IDs únicos após filtro: {chartevents_cleaned['ICUSTAY_ID'].nunique()}\")"
   ]
  },
  {
   "cell_type": "markdown",
   "id": "e6952331",
   "metadata": {},
   "source": [
    "This code is aimed at better understanding the chartevents dataset by ensuring consistency with the icustays dataset. It converts the ICUSTAY_ID columns in both datasets to integers to avoid type mismatches, then filters chartevents_cleaned to keep only records whose ICUSTAY_ID exists in icustays_cleaned. Finally, it compares and prints the number of unique ICU stay IDs before and after this filtering to show how many events remain linked to valid ICU stays."
   ]
  },
  {
   "cell_type": "code",
   "execution_count": 5,
   "id": "30ea0e40",
   "metadata": {},
   "outputs": [
    {
     "name": "stdout",
     "output_type": "stream",
     "text": [
      "Total ICUSTAY_IDs in icustays_cleaned: 61522\n",
      "61522\n"
     ]
    }
   ],
   "source": [
    "unique_ids_in_icustays = set(icustays_cleaned['ICUSTAY_ID'].unique())\n",
    "print(f\"Total ICUSTAY_IDs in icustays_cleaned: {len(unique_ids_in_icustays)}\")\n",
    "print(len(icustays_cleaned))"
   ]
  },
  {
   "cell_type": "markdown",
   "id": "be8c5519",
   "metadata": {},
   "source": [
    "Confirming that every line have a unique 'ICUSTAY_ID'."
   ]
  },
  {
   "cell_type": "code",
   "execution_count": 6,
   "id": "a131aef7",
   "metadata": {},
   "outputs": [],
   "source": [
    "chartevents_cleaned = chartevents_cleaned.drop(columns=['ROW_ID','STORETIME', 'CGID', 'VALUENUM','VALUEUOM','WARNING', 'ERROR', 'RESULTSTATUS', 'STOPPED'])"
   ]
  },
  {
   "cell_type": "code",
   "execution_count": 7,
   "id": "74c5e137",
   "metadata": {},
   "outputs": [
    {
     "name": "stdout",
     "output_type": "stream",
     "text": [
      "recode == '6' → HADM_IDs: 43243\n",
      "Corresponding ICUSTAY_IDs: 45795\n",
      "Filtered records in chartevents: 34586640\n",
      "Filtered records in chartevents: 34586640\n"
     ]
    }
   ],
   "source": [
    "#Filter diagnoses_icd_cleaned where recode == '6'\n",
    "hadm_ids_icd6 = diagnoses_icd_cleaned[diagnoses_icd_cleaned['recode'] == 6]['HADM_ID'].unique()\n",
    "\n",
    "#Get the ICUSTAY_IDs corresponding to these HADM_IDs\n",
    "icustays_ids_icd6 = icustays_cleaned[icustays_cleaned['HADM_ID'].isin(hadm_ids_icd6)]['ICUSTAY_ID'].unique()\n",
    "\n",
    "#Filter chartevents based on these ICUSTAY_IDs\n",
    "chartevents_icd6 = chartevents_cleaned[chartevents_cleaned['ICUSTAY_ID'].isin(icustays_ids_icd6)]\n",
    "\n",
    "print(f\"recode == '6' → HADM_IDs: {len(hadm_ids_icd6)}\")\n",
    "print(f\"Corresponding ICUSTAY_IDs: {len(icustays_ids_icd6)}\")\n",
    "print(f\"Filtered records in chartevents: {len(chartevents_icd6)}\")\n",
    "\n",
    "# Filter chartevents_icd6 to keep only these ICUSTAY_IDs\n",
    "chartevents_icd6 = chartevents_icd6[chartevents_icd6['ICUSTAY_ID'].isin(unique_ids_in_icustays)]\n",
    "print(f\"Filtered records in chartevents: {len(chartevents_icd6)}\")\n"
   ]
  },
  {
   "cell_type": "markdown",
   "id": "1109ca5f",
   "metadata": {},
   "source": [
    "This code filters the clinical data to focus on patients with a specific diagnosis category (recode == 6). First, it extracts hospital admission IDs (HADM_ID) for diagnoses with recode 6. Then, it finds the corresponding ICU stay IDs (ICUSTAY_ID) linked to those admissions. Using these ICU stay IDs, it filters the chartevents_cleaned dataset to keep only records related to these patients. Finally, it further filters to include only ICU stays present in a predefined list (unique_ids_in_icustays). The printed counts show the number of relevant admissions, ICU stays, and filtered clinical event records at each step."
   ]
  },
  {
   "cell_type": "code",
   "execution_count": 8,
   "id": "cc1067f0",
   "metadata": {},
   "outputs": [
    {
     "name": "stdout",
     "output_type": "stream",
     "text": [
      "['91.4' '0' '170' ... '506.12200927734375' '921.9329833984375'\n",
      " '12.06089973449707']\n",
      "[]\n"
     ]
    }
   ],
   "source": [
    "# Filter rows where itemid is a string\n",
    "chartevents_str_itemid = chartevents_icd6[chartevents_icd6['VALUE'].apply(lambda x: isinstance(x, str))]\n",
    "\n",
    "# View the unique values of these strings\n",
    "print(chartevents_str_itemid['VALUE'].unique())\n",
    "\n",
    "chartevents_icd6['VALUE'] = pd.to_numeric(chartevents_icd6['VALUE'], errors='coerce').astype('float64')\n",
    "\n",
    "# Filter rows where itemid is a string\n",
    "chartevents_str_itemid = chartevents_icd6[chartevents_icd6['VALUE'].apply(lambda x: isinstance(x, str))]\n",
    "\n",
    "# View the unique values of these strings\n",
    "print(chartevents_str_itemid['VALUE'].unique())\n"
   ]
  },
  {
   "cell_type": "markdown",
   "id": "208dcbfa",
   "metadata": {},
   "source": [
    "This code first filters chartevents_icd6 to find rows where the VALUE column contains string data, displaying the unique string values found. Then, it attempts to convert all VALUE entries to numeric values, coercing any non-convertible entries to NaN. After this conversion, it checks again for any remaining string values in VALUE and prints their unique occurrences, helping to identify and handle non-numeric data within this column."
   ]
  },
  {
   "cell_type": "code",
   "execution_count": 9,
   "id": "eb3a6592",
   "metadata": {},
   "outputs": [
    {
     "name": "stdout",
     "output_type": "stream",
     "text": [
      "True\n",
      "2000537\n"
     ]
    }
   ],
   "source": [
    "print((chartevents_icd6['VALUE'] == 0).any())\n",
    "\n",
    "mean_values = chartevents_icd6.groupby('ITEMID')['VALUE'].mean()\n",
    "\n",
    "def fill_value(row):\n",
    "    if pd.isna(row['VALUE']):\n",
    "        return mean_values.get(row['ITEMID'], np.nan)  \n",
    "    else:\n",
    "        return row['VALUE']\n",
    "def fill_value(row):\n",
    "    if pd.isna(row['VALUE']):\n",
    "        return mean_values.get(row['ITEMID'], np.nan) \n",
    "    else:\n",
    "        return row['VALUE']\n",
    "\n",
    "chartevents_icd6['VALUE'] = chartevents_icd6['VALUE'].fillna(chartevents_icd6['ITEMID'].map(mean_values))    \n",
    "print(chartevents_icd6['VALUE'].isna().sum())"
   ]
  },
  {
   "cell_type": "markdown",
   "id": "329f426e",
   "metadata": {},
   "source": [
    "This code first checks if there are any zero values in the VALUE column of chartevents_icd6. Then, it calculates the mean VALUE for each ITEMID. Next, it defines a function fill_value to replace missing (NaN) values in VALUE with the corresponding ITEMID mean. However, instead of using this function explicitly, it uses pandas' fillna combined with map to directly fill NaN values with the mean for each ITEMID. Finally, it prints the count of remaining missing values in VALUE after this imputation, showing how many NaNs remain."
   ]
  },
  {
   "cell_type": "code",
   "execution_count": 10,
   "id": "e9d3ec6c",
   "metadata": {},
   "outputs": [
    {
     "name": "stdout",
     "output_type": "stream",
     "text": [
      "ICUSTAY_IDs únicos: 23535\n",
      "ITEMIDs únicos: 1578\n"
     ]
    }
   ],
   "source": [
    "print(f\"ICUSTAY_IDs únicos: {chartevents_icd6['ICUSTAY_ID'].nunique()}\")\n",
    "print(f\"ITEMIDs únicos: {chartevents_icd6['ITEMID'].nunique()}\")"
   ]
  },
  {
   "cell_type": "code",
   "execution_count": 11,
   "id": "19abba84",
   "metadata": {},
   "outputs": [
    {
     "name": "stdout",
     "output_type": "stream",
     "text": [
      "SUBJECT_ID      int64\n",
      "HADM_ID         int64\n",
      "ICUSTAY_ID      int64\n",
      "ITEMID          int64\n",
      "CHARTTIME      object\n",
      "VALUE         float64\n",
      "dtype: object\n"
     ]
    }
   ],
   "source": [
    "print(chartevents_icd6.dtypes)\n"
   ]
  },
  {
   "cell_type": "code",
   "execution_count": 12,
   "id": "210c9ad4",
   "metadata": {},
   "outputs": [
    {
     "name": "stdout",
     "output_type": "stream",
     "text": [
      "ICUSTAY_ID  ITEMID\n",
      "200001      220045     84.616162\n",
      "            220046    120.000000\n",
      "            220047     58.571429\n",
      "            220050    109.600000\n",
      "            220051     54.184615\n",
      "            220052     83.686567\n",
      "            220056     82.500000\n",
      "            220058    147.500000\n",
      "            220179    102.129032\n",
      "            220180     56.064516\n",
      "            220181     66.870968\n",
      "            220210     20.535354\n",
      "            220224     95.000000\n",
      "            220227     92.000000\n",
      "            220228      7.766667\n",
      "            220235     42.428571\n",
      "            220277     98.354167\n",
      "            220545     24.600000\n",
      "            220546      3.233333\n",
      "            220587     29.000000\n",
      "Name: VALUE, dtype: float64\n",
      "ITEMID      1       2       3       24      25      26      27      28      \\\n",
      "ICUSTAY_ID                                                                   \n",
      "200001         NaN     NaN     NaN     NaN     NaN     NaN     NaN     NaN   \n",
      "200010         NaN     NaN     NaN     NaN     NaN     NaN     NaN     NaN   \n",
      "200011         NaN     NaN     NaN     NaN     NaN     NaN     NaN     NaN   \n",
      "200016         NaN     NaN     NaN     NaN     NaN     NaN     NaN     NaN   \n",
      "200021         NaN     NaN     NaN     NaN     NaN     NaN     NaN     NaN   \n",
      "\n",
      "ITEMID      29      31      ...  228375  228376  228377  228378  228379  \\\n",
      "ICUSTAY_ID                  ...                                           \n",
      "200001         NaN     NaN  ...     NaN     NaN     NaN     NaN     NaN   \n",
      "200010         NaN     NaN  ...     NaN     NaN     NaN     NaN     NaN   \n",
      "200011         NaN     NaN  ...     NaN     NaN     NaN     NaN     NaN   \n",
      "200016         NaN     NaN  ...     NaN     NaN     NaN     NaN     NaN   \n",
      "200021         NaN     NaN  ...     NaN     NaN     NaN     NaN     NaN   \n",
      "\n",
      "ITEMID      228380  228381  228382  228392  228444  \n",
      "ICUSTAY_ID                                          \n",
      "200001         NaN     NaN     NaN     NaN     NaN  \n",
      "200010         NaN     NaN     NaN     NaN     NaN  \n",
      "200011         NaN     NaN     NaN     NaN     NaN  \n",
      "200016         NaN     NaN     NaN     NaN     NaN  \n",
      "200021         NaN     NaN     NaN     NaN     NaN  \n",
      "\n",
      "[5 rows x 1578 columns]\n",
      "23535\n"
     ]
    }
   ],
   "source": [
    "df_grouped = chartevents_icd6.groupby(['ICUSTAY_ID', 'ITEMID'])['VALUE'].mean()\n",
    "\n",
    "print(df_grouped.head(20))\n",
    "\n",
    "df_pivot = df_grouped.unstack()\n",
    "\n",
    "print(df_pivot.head())\n",
    "print(len(df_pivot))"
   ]
  },
  {
   "cell_type": "markdown",
   "id": "36e2f557",
   "metadata": {},
   "source": [
    "This code groups the chartevents_icd6 data by ICUSTAY_ID and ITEMID, calculating the mean VALUE for each combination. It then prints the first 20 grouped results. Next, it reshapes the grouped data into a pivot table where each row represents an ICU stay (ICUSTAY_ID), each column corresponds to an ITEMID, and the cells contain the average values for those items during that stay. Finally, it prints the first few rows of this pivot table and the total number of ICU stays (rows) in the pivoted dataset."
   ]
  },
  {
   "cell_type": "code",
   "execution_count": 13,
   "id": "4a627700",
   "metadata": {},
   "outputs": [
    {
     "name": "stdout",
     "output_type": "stream",
     "text": [
      "Columns before: 1578\n",
      "Columns after removing constant ones: 852\n"
     ]
    }
   ],
   "source": [
    "nunique_per_column = df_pivot.nunique(dropna=True)\n",
    "\n",
    "cols_to_keep = nunique_per_column[nunique_per_column > 1].index\n",
    "\n",
    "df_pivot_filtered = df_pivot[cols_to_keep]\n",
    "\n",
    "print(f\"Columns before: {df_pivot.shape[1]}\")\n",
    "print(f\"Columns after removing constant ones: {df_pivot_filtered.shape[1]}\")"
   ]
  },
  {
   "cell_type": "markdown",
   "id": "392fd6a4",
   "metadata": {},
   "source": [
    "This code counts the number of unique (non-NaN) values in each column of the pivoted DataFrame df_pivot. It then selects only the columns that have more than one unique value—effectively removing columns that are constant (the same value for all ICU stays). The filtered DataFrame df_pivot_filtered keeps only these variable columns. Finally, it prints the number of columns before and after this filtering to show how many constant columns were removed."
   ]
  },
  {
   "cell_type": "code",
   "execution_count": 14,
   "id": "24f8f32f",
   "metadata": {},
   "outputs": [
    {
     "data": {
      "text/html": [
       "<div>\n",
       "<style scoped>\n",
       "    .dataframe tbody tr th:only-of-type {\n",
       "        vertical-align: middle;\n",
       "    }\n",
       "\n",
       "    .dataframe tbody tr th {\n",
       "        vertical-align: top;\n",
       "    }\n",
       "\n",
       "    .dataframe thead th {\n",
       "        text-align: right;\n",
       "    }\n",
       "</style>\n",
       "<table border=\"1\" class=\"dataframe\">\n",
       "  <thead>\n",
       "    <tr style=\"text-align: right;\">\n",
       "      <th>ITEMID</th>\n",
       "      <th>2</th>\n",
       "      <th>3</th>\n",
       "      <th>25</th>\n",
       "      <th>26</th>\n",
       "      <th>29</th>\n",
       "      <th>50</th>\n",
       "      <th>52</th>\n",
       "      <th>55</th>\n",
       "      <th>59</th>\n",
       "      <th>60</th>\n",
       "      <th>...</th>\n",
       "      <th>228375</th>\n",
       "      <th>228376</th>\n",
       "      <th>228377</th>\n",
       "      <th>228378</th>\n",
       "      <th>228379</th>\n",
       "      <th>228380</th>\n",
       "      <th>228381</th>\n",
       "      <th>228382</th>\n",
       "      <th>228392</th>\n",
       "      <th>228444</th>\n",
       "    </tr>\n",
       "    <tr>\n",
       "      <th>ICUSTAY_ID</th>\n",
       "      <th></th>\n",
       "      <th></th>\n",
       "      <th></th>\n",
       "      <th></th>\n",
       "      <th></th>\n",
       "      <th></th>\n",
       "      <th></th>\n",
       "      <th></th>\n",
       "      <th></th>\n",
       "      <th></th>\n",
       "      <th></th>\n",
       "      <th></th>\n",
       "      <th></th>\n",
       "      <th></th>\n",
       "      <th></th>\n",
       "      <th></th>\n",
       "      <th></th>\n",
       "      <th></th>\n",
       "      <th></th>\n",
       "      <th></th>\n",
       "      <th></th>\n",
       "    </tr>\n",
       "  </thead>\n",
       "  <tbody>\n",
       "    <tr>\n",
       "      <th>200001</th>\n",
       "      <td>0.985331</td>\n",
       "      <td>0.955861</td>\n",
       "      <td>164.428793</td>\n",
       "      <td>259.747692</td>\n",
       "      <td>-35.527874</td>\n",
       "      <td>20.411955</td>\n",
       "      <td>80.727524</td>\n",
       "      <td>94.019236</td>\n",
       "      <td>109.490318</td>\n",
       "      <td>3.618011</td>\n",
       "      <td>...</td>\n",
       "      <td>35.437574</td>\n",
       "      <td>17.198265</td>\n",
       "      <td>10.726075</td>\n",
       "      <td>-0.431593</td>\n",
       "      <td>1.086753</td>\n",
       "      <td>65.633333</td>\n",
       "      <td>1045.946411</td>\n",
       "      <td>1919.428812</td>\n",
       "      <td>25.911111</td>\n",
       "      <td>40.935808</td>\n",
       "    </tr>\n",
       "    <tr>\n",
       "      <th>200010</th>\n",
       "      <td>0.985331</td>\n",
       "      <td>0.955861</td>\n",
       "      <td>164.428793</td>\n",
       "      <td>259.747692</td>\n",
       "      <td>-35.527874</td>\n",
       "      <td>20.411955</td>\n",
       "      <td>80.727524</td>\n",
       "      <td>94.019236</td>\n",
       "      <td>109.490318</td>\n",
       "      <td>3.618011</td>\n",
       "      <td>...</td>\n",
       "      <td>35.437574</td>\n",
       "      <td>17.198265</td>\n",
       "      <td>10.726075</td>\n",
       "      <td>-0.431593</td>\n",
       "      <td>1.086753</td>\n",
       "      <td>65.633333</td>\n",
       "      <td>1045.946411</td>\n",
       "      <td>1919.428812</td>\n",
       "      <td>25.911111</td>\n",
       "      <td>40.935808</td>\n",
       "    </tr>\n",
       "    <tr>\n",
       "      <th>200011</th>\n",
       "      <td>0.985331</td>\n",
       "      <td>0.955861</td>\n",
       "      <td>164.428793</td>\n",
       "      <td>259.747692</td>\n",
       "      <td>-35.527874</td>\n",
       "      <td>20.411955</td>\n",
       "      <td>80.727524</td>\n",
       "      <td>94.019236</td>\n",
       "      <td>109.490318</td>\n",
       "      <td>3.618011</td>\n",
       "      <td>...</td>\n",
       "      <td>35.437574</td>\n",
       "      <td>17.198265</td>\n",
       "      <td>10.726075</td>\n",
       "      <td>-0.431593</td>\n",
       "      <td>1.086753</td>\n",
       "      <td>65.633333</td>\n",
       "      <td>1045.946411</td>\n",
       "      <td>1919.428812</td>\n",
       "      <td>25.911111</td>\n",
       "      <td>40.935808</td>\n",
       "    </tr>\n",
       "    <tr>\n",
       "      <th>200016</th>\n",
       "      <td>0.985331</td>\n",
       "      <td>0.955861</td>\n",
       "      <td>164.428793</td>\n",
       "      <td>259.747692</td>\n",
       "      <td>-35.527874</td>\n",
       "      <td>20.411955</td>\n",
       "      <td>80.727524</td>\n",
       "      <td>94.019236</td>\n",
       "      <td>109.490318</td>\n",
       "      <td>3.618011</td>\n",
       "      <td>...</td>\n",
       "      <td>35.437574</td>\n",
       "      <td>17.198265</td>\n",
       "      <td>10.726075</td>\n",
       "      <td>-0.431593</td>\n",
       "      <td>1.086753</td>\n",
       "      <td>65.633333</td>\n",
       "      <td>1045.946411</td>\n",
       "      <td>1919.428812</td>\n",
       "      <td>25.911111</td>\n",
       "      <td>40.935808</td>\n",
       "    </tr>\n",
       "    <tr>\n",
       "      <th>200021</th>\n",
       "      <td>0.985331</td>\n",
       "      <td>0.955861</td>\n",
       "      <td>164.428793</td>\n",
       "      <td>259.747692</td>\n",
       "      <td>-35.527874</td>\n",
       "      <td>20.411955</td>\n",
       "      <td>80.727524</td>\n",
       "      <td>94.019236</td>\n",
       "      <td>109.490318</td>\n",
       "      <td>3.618011</td>\n",
       "      <td>...</td>\n",
       "      <td>35.437574</td>\n",
       "      <td>17.198265</td>\n",
       "      <td>10.726075</td>\n",
       "      <td>-0.431593</td>\n",
       "      <td>1.086753</td>\n",
       "      <td>65.633333</td>\n",
       "      <td>1045.946411</td>\n",
       "      <td>1919.428812</td>\n",
       "      <td>25.911111</td>\n",
       "      <td>40.935808</td>\n",
       "    </tr>\n",
       "  </tbody>\n",
       "</table>\n",
       "<p>5 rows × 852 columns</p>\n",
       "</div>"
      ],
      "text/plain": [
       "ITEMID        2         3           25          26         29         50      \\\n",
       "ICUSTAY_ID                                                                     \n",
       "200001      0.985331  0.955861  164.428793  259.747692 -35.527874  20.411955   \n",
       "200010      0.985331  0.955861  164.428793  259.747692 -35.527874  20.411955   \n",
       "200011      0.985331  0.955861  164.428793  259.747692 -35.527874  20.411955   \n",
       "200016      0.985331  0.955861  164.428793  259.747692 -35.527874  20.411955   \n",
       "200021      0.985331  0.955861  164.428793  259.747692 -35.527874  20.411955   \n",
       "\n",
       "ITEMID         52         55          59        60      ...     228375  \\\n",
       "ICUSTAY_ID                                              ...              \n",
       "200001      80.727524  94.019236  109.490318  3.618011  ...  35.437574   \n",
       "200010      80.727524  94.019236  109.490318  3.618011  ...  35.437574   \n",
       "200011      80.727524  94.019236  109.490318  3.618011  ...  35.437574   \n",
       "200016      80.727524  94.019236  109.490318  3.618011  ...  35.437574   \n",
       "200021      80.727524  94.019236  109.490318  3.618011  ...  35.437574   \n",
       "\n",
       "ITEMID         228376     228377    228378    228379     228380       228381  \\\n",
       "ICUSTAY_ID                                                                     \n",
       "200001      17.198265  10.726075 -0.431593  1.086753  65.633333  1045.946411   \n",
       "200010      17.198265  10.726075 -0.431593  1.086753  65.633333  1045.946411   \n",
       "200011      17.198265  10.726075 -0.431593  1.086753  65.633333  1045.946411   \n",
       "200016      17.198265  10.726075 -0.431593  1.086753  65.633333  1045.946411   \n",
       "200021      17.198265  10.726075 -0.431593  1.086753  65.633333  1045.946411   \n",
       "\n",
       "ITEMID           228382     228392     228444  \n",
       "ICUSTAY_ID                                     \n",
       "200001      1919.428812  25.911111  40.935808  \n",
       "200010      1919.428812  25.911111  40.935808  \n",
       "200011      1919.428812  25.911111  40.935808  \n",
       "200016      1919.428812  25.911111  40.935808  \n",
       "200021      1919.428812  25.911111  40.935808  \n",
       "\n",
       "[5 rows x 852 columns]"
      ]
     },
     "execution_count": 14,
     "metadata": {},
     "output_type": "execute_result"
    }
   ],
   "source": [
    "df_pivot_filtered = df_pivot_filtered.fillna(df_pivot_filtered.mean())\n",
    "df_pivot_filtered.head()"
   ]
  },
  {
   "cell_type": "code",
   "execution_count": 15,
   "id": "ada877b5",
   "metadata": {},
   "outputs": [
    {
     "name": "stdout",
     "output_type": "stream",
     "text": [
      "23535\n"
     ]
    }
   ],
   "source": [
    "df = df_pivot_filtered.merge(icustays_cleaned[['ICUSTAY_ID', 'LOS']], on='ICUSTAY_ID', how='inner')\n",
    "print(len(df))"
   ]
  },
  {
   "cell_type": "markdown",
   "id": "3d6a9863",
   "metadata": {},
   "source": [
    "Considering 24h:"
   ]
  },
  {
   "cell_type": "code",
   "execution_count": 16,
   "id": "284e1fc0",
   "metadata": {},
   "outputs": [
    {
     "name": "stdout",
     "output_type": "stream",
     "text": [
      "Index(['SUBJECT_ID', 'HADM_ID', 'ICUSTAY_ID', 'ITEMID', 'CHARTTIME', 'VALUE',\n",
      "       'INTIME'],\n",
      "      dtype='object')\n",
      "23492\n"
     ]
    }
   ],
   "source": [
    "chartevents_icd6['CHARTTIME'] = pd.to_datetime(chartevents_icd6['CHARTTIME'], format='mixed', errors='coerce')\n",
    "icustays_cleaned['INTIME'] = pd.to_datetime(icustays_cleaned['INTIME'])\n",
    "\n",
    "chartevents_icd6['CHARTTIME']= chartevents_icd6['CHARTTIME'].dt.floor('min')\n",
    "icustays_cleaned['INTIME']= icustays_cleaned['INTIME'].dt.floor('min')\n",
    "\n",
    "df_merged = chartevents_icd6.merge(\n",
    "    icustays_cleaned[['ICUSTAY_ID', 'INTIME']],\n",
    "    on='ICUSTAY_ID',\n",
    "    how='left'\n",
    ")\n",
    "\n",
    "# Filter for observations within the first 24 hours\n",
    "df_merged = df_merged[df_merged['CHARTTIME'] <= df_merged['INTIME'] + pd.Timedelta(hours=24)]\n",
    "print(df_merged.columns)\n",
    "\n",
    "# Filter df_outro to keep only the icustay_id values that are in df_merged\n",
    "df = df[df['ICUSTAY_ID'].isin(df_merged['ICUSTAY_ID'].unique())]\n",
    "print(len(df))\n"
   ]
  },
  {
   "cell_type": "code",
   "execution_count": 17,
   "id": "3f0e27c9",
   "metadata": {},
   "outputs": [],
   "source": [
    "from sklearn.model_selection import train_test_split\n",
    "from sklearn.preprocessing import StandardScaler\n",
    "\n",
    "# Split X and y\n",
    "X = df.drop(columns=['LOS', 'ICUSTAY_ID']) \n",
    "y = df['LOS']\n",
    "\n",
    "# Train/test split\n",
    "X_train, X_test, y_train, y_test = train_test_split(X, y, test_size=0.2, random_state=42)\n",
    "\n",
    "# Scale\n",
    "scaler = StandardScaler()\n",
    "X_train_scaled = scaler.fit_transform(X_train)\n",
    "X_test_scaled = scaler.transform(X_test)\n"
   ]
  },
  {
   "cell_type": "code",
   "execution_count": 18,
   "id": "e34ccdc9",
   "metadata": {},
   "outputs": [
    {
     "name": "stdout",
     "output_type": "stream",
     "text": [
      "MAE: 1.56\n",
      "RMSE: 3.24\n"
     ]
    }
   ],
   "source": [
    "from sklearn.ensemble import RandomForestRegressor\n",
    "from sklearn.metrics import mean_absolute_error, mean_squared_error\n",
    "\n",
    "# Model\n",
    "model = RandomForestRegressor(n_estimators=100, random_state=42)\n",
    "model.fit(X_train_scaled, y_train)\n",
    "\n",
    "# Predictions\n",
    "y_pred = model.predict(X_test_scaled)\n",
    "\n",
    "# Evaluation\n",
    "mae = mean_absolute_error(y_test, y_pred)\n",
    "rmse = np.sqrt(mean_squared_error(y_test, y_pred))\n",
    "\n",
    "print(f\"MAE: {mae:.2f}\")   \n",
    "print(f\"RMSE: {rmse:.2f}\")\n"
   ]
  },
  {
   "cell_type": "markdown",
   "id": "9f42a61e",
   "metadata": {},
   "source": [
    "Considering 12h:"
   ]
  },
  {
   "cell_type": "code",
   "execution_count": 19,
   "id": "2da4e15d",
   "metadata": {},
   "outputs": [
    {
     "name": "stdout",
     "output_type": "stream",
     "text": [
      "Index(['SUBJECT_ID', 'HADM_ID', 'ICUSTAY_ID', 'ITEMID', 'CHARTTIME', 'VALUE',\n",
      "       'INTIME'],\n",
      "      dtype='object')\n",
      "23413\n"
     ]
    }
   ],
   "source": [
    "df_merged = df_merged[df_merged['CHARTTIME'] <= df_merged['INTIME'] + pd.Timedelta(hours=12)]\n",
    "print(df_merged.columns)\n",
    "\n",
    "df = df[df['ICUSTAY_ID'].isin(df_merged['ICUSTAY_ID'].unique())]\n",
    "print(len(df))"
   ]
  },
  {
   "cell_type": "code",
   "execution_count": 20,
   "id": "296d279a",
   "metadata": {},
   "outputs": [],
   "source": [
    "from sklearn.model_selection import train_test_split\n",
    "from sklearn.preprocessing import StandardScaler\n",
    "\n",
    "X = df.drop(columns=['LOS', 'ICUSTAY_ID']) \n",
    "y = df['LOS']\n",
    "\n",
    "X_train, X_test, y_train, y_test = train_test_split(X, y, test_size=0.2, random_state=42)\n",
    "\n",
    "scaler = StandardScaler()\n",
    "X_train_scaled = scaler.fit_transform(X_train)\n",
    "X_test_scaled = scaler.transform(X_test)\n"
   ]
  },
  {
   "cell_type": "code",
   "execution_count": 21,
   "id": "d731bf40",
   "metadata": {},
   "outputs": [
    {
     "name": "stdout",
     "output_type": "stream",
     "text": [
      "MAE: 1.56\n",
      "RMSE: 3.17\n"
     ]
    }
   ],
   "source": [
    "from sklearn.ensemble import RandomForestRegressor\n",
    "from sklearn.metrics import mean_absolute_error, mean_squared_error\n",
    "\n",
    "model = RandomForestRegressor(n_estimators=100, random_state=42)\n",
    "model.fit(X_train_scaled, y_train)\n",
    "\n",
    "y_pred = model.predict(X_test_scaled)\n",
    "\n",
    "mae = mean_absolute_error(y_test, y_pred)\n",
    "rmse = np.sqrt(mean_squared_error(y_test, y_pred))\n",
    "\n",
    "print(f\"MAE: {mae:.2f}\")   \n",
    "print(f\"RMSE: {rmse:.2f}\")\n"
   ]
  },
  {
   "cell_type": "markdown",
   "id": "59ecb7b5",
   "metadata": {},
   "source": [
    "Considering 48h:"
   ]
  },
  {
   "cell_type": "code",
   "execution_count": 22,
   "id": "f65ccc93",
   "metadata": {},
   "outputs": [
    {
     "name": "stdout",
     "output_type": "stream",
     "text": [
      "Index(['SUBJECT_ID', 'HADM_ID', 'ICUSTAY_ID', 'ITEMID', 'CHARTTIME', 'VALUE',\n",
      "       'INTIME'],\n",
      "      dtype='object')\n",
      "23413\n"
     ]
    }
   ],
   "source": [
    "df_merged = df_merged[df_merged['CHARTTIME'] <= df_merged['INTIME'] + pd.Timedelta(hours=72)]\n",
    "print(df_merged.columns)\n",
    "\n",
    "df = df[df['ICUSTAY_ID'].isin(df_merged['ICUSTAY_ID'].unique())]\n",
    "print(len(df))"
   ]
  },
  {
   "cell_type": "code",
   "execution_count": 23,
   "id": "407db615",
   "metadata": {},
   "outputs": [],
   "source": [
    "from sklearn.model_selection import train_test_split\n",
    "from sklearn.preprocessing import StandardScaler\n",
    "\n",
    "X = df.drop(columns=['LOS', 'ICUSTAY_ID']) \n",
    "y = df['LOS']\n",
    "\n",
    "X_train, X_test, y_train, y_test = train_test_split(X, y, test_size=0.2, random_state=42)\n",
    "\n",
    "scaler = StandardScaler()\n",
    "X_train_scaled = scaler.fit_transform(X_train)\n",
    "X_test_scaled = scaler.transform(X_test)\n"
   ]
  },
  {
   "cell_type": "code",
   "execution_count": 24,
   "id": "ea9420a7",
   "metadata": {},
   "outputs": [
    {
     "name": "stdout",
     "output_type": "stream",
     "text": [
      "MAE: 1.56\n",
      "RMSE: 3.17\n"
     ]
    }
   ],
   "source": [
    "from sklearn.ensemble import RandomForestRegressor\n",
    "from sklearn.metrics import mean_absolute_error, mean_squared_error\n",
    "\n",
    "model = RandomForestRegressor(n_estimators=100, random_state=42)\n",
    "model.fit(X_train_scaled, y_train)\n",
    "\n",
    "y_pred = model.predict(X_test_scaled)\n",
    "\n",
    "mae = mean_absolute_error(y_test, y_pred)\n",
    "rmse = np.sqrt(mean_squared_error(y_test, y_pred))\n",
    "\n",
    "print(f\"MAE: {mae:.2f}\")   \n",
    "print(f\"RMSE: {rmse:.2f}\")\n"
   ]
  },
  {
   "cell_type": "markdown",
   "id": "1047d530",
   "metadata": {},
   "source": [
    "The results were quite similar across the various time windows we tested; however, we found that the 24-hour window yielded the worst results."
   ]
  }
 ],
 "metadata": {
  "kernelspec": {
   "display_name": "Python 3",
   "language": "python",
   "name": "python3"
  },
  "language_info": {
   "codemirror_mode": {
    "name": "ipython",
    "version": 3
   },
   "file_extension": ".py",
   "mimetype": "text/x-python",
   "name": "python",
   "nbconvert_exporter": "python",
   "pygments_lexer": "ipython3",
   "version": "3.10.0"
  }
 },
 "nbformat": 4,
 "nbformat_minor": 5
}
